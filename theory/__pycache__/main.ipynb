{
 "cells": [
  {
   "cell_type": "code",
   "execution_count": null,
   "metadata": {},
   "outputs": [],
   "source": [
    "from effective import PredecessorGraph, Job\n",
    "\n",
    "job1 = Job(name='job_1', release_time=2, deadline=10)\n",
    "job2 = Job(name='job_2', release_time=0, deadline=7)\n",
    "\n",
    "pred_graph = PredecessorGraph(init_job=[job1, job2])\n",
    "pred_graph.append(predecessor='job_1',job=Job(name='job_3', release_time=1, deadline=12))\n",
    "pred_graph.append(predecessor='job_2',job=Job(name='job_3', release_time=1, deadline=12))\n",
    "\n",
    "pred_graph.append(predecessor='job_3',job=Job(name='job_4', release_time=4, deadline=9))\n",
    "pred_graph.append(predecessor='job_3',job=Job(name='job_5', release_time=1, deadline=8))\n",
    "pred_graph.append(predecessor='job_3',job=Job(name='job_7', release_time=6, deadline=21))\n",
    "\n",
    "pred_graph.append(predecessor='job_4',job=Job(name='job_6', release_time=0, deadline=20))\n",
    "pred_graph.append(predecessor='job_4',job=Job(name='job_7', release_time=6, deadline=21))\n",
    "\n",
    "pred_graph.append(predecessor='job_5',job=Job(name='job_6', release_time=0, deadline=20))\n",
    "\n",
    "pred_graph.description()\n",
    "\n",
    "print('GET EFFECTIVE RELEASE TIME AND EFFECTIVE DEADLINES')\n",
    "pred_graph.get_effective()\n",
    "pred_graph.description()\n"
   ]
  }
 ],
 "metadata": {
  "kernelspec": {
   "display_name": "torch_gpu",
   "language": "python",
   "name": "python3"
  },
  "language_info": {
   "name": "python",
   "version": "3.10.10"
  },
  "orig_nbformat": 4
 },
 "nbformat": 4,
 "nbformat_minor": 2
}
